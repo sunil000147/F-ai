{
  "nbformat": 4,
  "nbformat_minor": 0,
  "metadata": {
    "colab": {
      "provenance": []
    },
    "kernelspec": {
      "name": "python3",
      "display_name": "Python 3"
    },
    "language_info": {
      "name": "python"
    }
  },
  "cells": [
    {
      "cell_type": "code",
      "execution_count": 1,
      "metadata": {
        "colab": {
          "base_uri": "https://localhost:8080/"
        },
        "id": "6GE3DH_ox2Pn",
        "outputId": "c1c62246-6c50-48a4-b77c-39c1aff295b8"
      },
      "outputs": [
        {
          "output_type": "stream",
          "name": "stdout",
          "text": [
            "Collecting PyPDF2\n",
            "  Downloading pypdf2-3.0.1-py3-none-any.whl.metadata (6.8 kB)\n",
            "Downloading pypdf2-3.0.1-py3-none-any.whl (232 kB)\n",
            "\u001b[?25l   \u001b[90m━━━━━━━━━━━━━━━━━━━━━━━━━━━━━━━━━━━━━━━━\u001b[0m \u001b[32m0.0/232.6 kB\u001b[0m \u001b[31m?\u001b[0m eta \u001b[36m-:--:--\u001b[0m\r\u001b[2K   \u001b[90m━━━━━━━━━━━━━━━━━━━━━━━━━━━━━━━━━━━━━━━━\u001b[0m \u001b[32m232.6/232.6 kB\u001b[0m \u001b[31m13.8 MB/s\u001b[0m eta \u001b[36m0:00:00\u001b[0m\n",
            "\u001b[?25hInstalling collected packages: PyPDF2\n",
            "Successfully installed PyPDF2-3.0.1\n"
          ]
        }
      ],
      "source": [
        "pip install PyPDF2\n"
      ]
    },
    {
      "cell_type": "code",
      "source": [
        "import PyPDF2\n",
        "\n",
        "# List of PDF files and the pages we need to extract\n",
        "pdf_files = [\n",
        "    {\"file\": \"/content/drive/MyDrive/FINANCIAL_DATA/amc-annual-report---2015---16.pdf\", \"sections\": {\"Directors’ Report\": [4], \"Auditors’ Report\": [21], \"Balance Sheet\": [29], \"Statement of Profit and Loss\": [30], \"Cash Flow Statement\": [31], \"Notes to the Financial Statements\": list(range(33, 39))}},\n",
        "    {\"file\": \"/content/drive/MyDrive/FINANCIAL_DATA/amc-annual-report---2017---18.pdf\", \"sections\": {\"Directors’ Report\": [4], \"Auditors’ Report\": [27], \"Balance Sheet\": [34], \"Statement of Profit and Loss\": [35], \"Cash Flow Statement\": [36], \"Notes to the Financial Statements\": list(range(38, 45))}},\n",
        "    {\"file\": \"/content/drive/MyDrive/FINANCIAL_DATA/amc-annual-report---2018---19.pdf\", \"sections\": {\"Directors’ Report\": [4], \"Auditors’ Report\": [27], \"Balance Sheet\": [34], \"Statement of Profit and Loss\": [35], \"Cash Flow Statement\": [36], \"Notes to the Financial Statements\": list(range(38, 45))}},\n",
        "    {\"file\": \"/content/drive/MyDrive/FINANCIAL_DATA/amc-annual-report---2019---20.pdf\", \"sections\": {\"Directors’ Report\": [4], \"Auditors’ Report\": [27], \"Balance Sheet\": [34], \"Statement of Profit and Loss\": [35], \"Cash Flow Statement\": [36], \"Notes to the Financial Statements\": list(range(38, 45))}},\n",
        "    {\"file\": \"/content/drive/MyDrive/FINANCIAL_DATA/amc-annual-report---2022---2317d8f1fc4d4f4aa6a06ec4af49a9f226.pdf\", \"sections\": {\"Directors’ Report\": [4], \"Auditors’ Report\": [27], \"Balance Sheet\": [34], \"Statement of Profit and Loss\": [35], \"Cash Flow Statement\": [36], \"Notes to the Financial Statements\": list(range(38, 45))}},\n",
        "]\n",
        "\n",
        "def extract_text_from_pages(pdf_file, page_numbers):\n",
        "    reader = PyPDF2.PdfReader(open(pdf_file, 'rb'))\n",
        "    text = \"\"\n",
        "    for page_num in page_numbers:\n",
        "        text += reader.pages[page_num - 1].extract_text() + \"\\n\"\n",
        "    return text\n",
        "\n",
        "# Compile the audit report\n",
        "audit_report = \"\"\n",
        "\n",
        "for pdf in pdf_files:\n",
        "    audit_report += f\"\\n{'='*40}\\nExtracted from {pdf['file']}\\n{'='*40}\\n\"\n",
        "    for section, pages in pdf['sections'].items():\n",
        "        audit_report += f\"\\n{section}:\\n{'-'*20}\\n\"\n",
        "        audit_report += extract_text_from_pages(pdf['file'], pages)\n",
        "\n",
        "# Save the compiled report to a text file\n",
        "with open('compiled_audit_report.txt', 'w') as f:\n",
        "    f.write(audit_report)\n",
        "\n",
        "print(\"Audit report has been compiled and saved as 'compiled_audit_report.txt'\")\n"
      ],
      "metadata": {
        "colab": {
          "base_uri": "https://localhost:8080/"
        },
        "id": "vCHseE7jzBO3",
        "outputId": "b464b609-99a9-4c07-8065-68266e5f2f70"
      },
      "execution_count": 2,
      "outputs": [
        {
          "output_type": "stream",
          "name": "stdout",
          "text": [
            "Audit report has been compiled and saved as 'compiled_audit_report.txt'\n"
          ]
        }
      ]
    },
    {
      "cell_type": "code",
      "source": [],
      "metadata": {
        "id": "3Wri1l3d_X_c"
      },
      "execution_count": null,
      "outputs": []
    }
  ]
}