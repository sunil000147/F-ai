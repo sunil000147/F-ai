{
  "cells": [
    {
      "cell_type": "markdown",
      "metadata": {
        "id": "9SmJioZelpA9"
      },
      "source": [
        "### Import the necessary libraries"
      ]
    },
    {
      "cell_type": "code",
      "execution_count": null,
      "metadata": {
        "id": "w_Mcj9WIlpBB",
        "outputId": "7f8f0101-00cb-4b83-b533-c4452d7df279"
      },
      "outputs": [
        {
          "name": "stdout",
          "output_type": "stream",
          "text": [
            "Requirement already satisfied: langchain in c:\\users\\noora\\appdata\\local\\programs\\python\\python310\\lib\\site-packages (from -r requirements.txt (line 1)) (0.1.16)\n",
            "Requirement already satisfied: langchain_community in c:\\users\\noora\\appdata\\local\\programs\\python\\python310\\lib\\site-packages (from -r requirements.txt (line 2)) (0.0.34)\n",
            "Requirement already satisfied: PyPDF2 in c:\\users\\noora\\appdata\\local\\programs\\python\\python310\\lib\\site-packages (from -r requirements.txt (line 3)) (3.0.1)\n",
            "Requirement already satisfied: chromadb in c:\\users\\noora\\appdata\\local\\programs\\python\\python310\\lib\\site-packages (from -r requirements.txt (line 4)) (0.5.0)\n",
            "Requirement already satisfied: groq in c:\\users\\noora\\appdata\\local\\programs\\python\\python310\\lib\\site-packages (from -r requirements.txt (line 5)) (0.8.0)\n",
            "Requirement already satisfied: langchain-groq in c:\\users\\noora\\appdata\\local\\programs\\python\\python310\\lib\\site-packages (from -r requirements.txt (line 6)) (0.1.4)\n",
            "Requirement already satisfied: ollama in c:\\users\\noora\\appdata\\local\\programs\\python\\python310\\lib\\site-packages (from -r requirements.txt (line 7)) (0.2.0)\n",
            "Requirement already satisfied: python-dotenv in c:\\users\\noora\\appdata\\local\\programs\\python\\python310\\lib\\site-packages (from -r requirements.txt (line 8)) (1.0.1)\n",
            "Requirement already satisfied: chainit in c:\\users\\noora\\appdata\\local\\programs\\python\\python310\\lib\\site-packages (from -r requirements.txt (line 9)) (0.3.0)\n",
            "Requirement already satisfied: sentence-transformers in c:\\users\\noora\\appdata\\local\\programs\\python\\python310\\lib\\site-packages (from -r requirements.txt (line 10)) (2.7.0)\n",
            "Requirement already satisfied: langchain-core<0.2.0,>=0.1.42 in c:\\users\\noora\\appdata\\local\\programs\\python\\python310\\lib\\site-packages (from langchain->-r requirements.txt (line 1)) (0.1.46)\n",
            "Requirement already satisfied: aiohttp<4.0.0,>=3.8.3 in c:\\users\\noora\\appdata\\local\\programs\\python\\python310\\lib\\site-packages (from langchain->-r requirements.txt (line 1)) (3.9.5)\n",
            "Requirement already satisfied: async-timeout<5.0.0,>=4.0.0 in c:\\users\\noora\\appdata\\local\\programs\\python\\python310\\lib\\site-packages (from langchain->-r requirements.txt (line 1)) (4.0.3)\n",
            "Requirement already satisfied: SQLAlchemy<3,>=1.4 in c:\\users\\noora\\appdata\\local\\programs\\python\\python310\\lib\\site-packages (from langchain->-r requirements.txt (line 1)) (2.0.29)\n",
            "Requirement already satisfied: dataclasses-json<0.7,>=0.5.7 in c:\\users\\noora\\appdata\\local\\programs\\python\\python310\\lib\\site-packages (from langchain->-r requirements.txt (line 1)) (0.6.4)\n",
            "Requirement already satisfied: langsmith<0.2.0,>=0.1.17 in c:\\users\\noora\\appdata\\local\\programs\\python\\python310\\lib\\site-packages (from langchain->-r requirements.txt (line 1)) (0.1.51)\n",
            "Requirement already satisfied: numpy<2,>=1 in c:\\users\\noora\\appdata\\local\\programs\\python\\python310\\lib\\site-packages (from langchain->-r requirements.txt (line 1)) (1.26.4)\n",
            "Requirement already satisfied: requests<3,>=2 in c:\\users\\noora\\appdata\\local\\programs\\python\\python310\\lib\\site-packages (from langchain->-r requirements.txt (line 1)) (2.31.0)\n",
            "Requirement already satisfied: PyYAML>=5.3 in c:\\users\\noora\\appdata\\local\\programs\\python\\python310\\lib\\site-packages (from langchain->-r requirements.txt (line 1)) (6.0.1)\n",
            "Requirement already satisfied: tenacity<9.0.0,>=8.1.0 in c:\\users\\noora\\appdata\\local\\programs\\python\\python310\\lib\\site-packages (from langchain->-r requirements.txt (line 1)) (8.2.3)\n",
            "Requirement already satisfied: pydantic<3,>=1 in c:\\users\\noora\\appdata\\local\\programs\\python\\python310\\lib\\site-packages (from langchain->-r requirements.txt (line 1)) (2.7.1)\n",
            "Requirement already satisfied: langchain-text-splitters<0.1,>=0.0.1 in c:\\users\\noora\\appdata\\local\\programs\\python\\python310\\lib\\site-packages (from langchain->-r requirements.txt (line 1)) (0.0.1)\n",
            "Requirement already satisfied: jsonpatch<2.0,>=1.33 in c:\\users\\noora\\appdata\\local\\programs\\python\\python310\\lib\\site-packages (from langchain->-r requirements.txt (line 1)) (1.33)\n",
            "Requirement already satisfied: opentelemetry-instrumentation-fastapi>=0.41b0 in c:\\users\\noora\\appdata\\local\\programs\\python\\python310\\lib\\site-packages (from chromadb->-r requirements.txt (line 4)) (0.45b0)\n",
            "Requirement already satisfied: opentelemetry-api>=1.2.0 in c:\\users\\noora\\appdata\\local\\programs\\python\\python310\\lib\\site-packages (from chromadb->-r requirements.txt (line 4)) (1.24.0)\n",
            "Requirement already satisfied: onnxruntime>=1.14.1 in c:\\users\\noora\\appdata\\local\\programs\\python\\python310\\lib\\site-packages (from chromadb->-r requirements.txt (line 4)) (1.17.3)\n",
            "Requirement already satisfied: posthog>=2.4.0 in c:\\users\\noora\\appdata\\local\\programs\\python\\python310\\lib\\site-packages (from chromadb->-r requirements.txt (line 4)) (3.5.0)\n",
            "Requirement already satisfied: pypika>=0.48.9 in c:\\users\\noora\\appdata\\local\\programs\\python\\python310\\lib\\site-packages (from chromadb->-r requirements.txt (line 4)) (0.48.9)\n",
            "Requirement already satisfied: build>=1.0.3 in c:\\users\\noora\\appdata\\local\\programs\\python\\python310\\lib\\site-packages (from chromadb->-r requirements.txt (line 4)) (1.2.1)\n",
            "Requirement already satisfied: tqdm>=4.65.0 in c:\\users\\noora\\appdata\\local\\programs\\python\\python310\\lib\\site-packages (from chromadb->-r requirements.txt (line 4)) (4.66.2)\n",
            "Requirement already satisfied: bcrypt>=4.0.1 in c:\\users\\noora\\appdata\\local\\programs\\python\\python310\\lib\\site-packages (from chromadb->-r requirements.txt (line 4)) (4.1.2)\n",
            "Requirement already satisfied: opentelemetry-sdk>=1.2.0 in c:\\users\\noora\\appdata\\local\\programs\\python\\python310\\lib\\site-packages (from chromadb->-r requirements.txt (line 4)) (1.24.0)\n",
            "Requirement already satisfied: grpcio>=1.58.0 in c:\\users\\noora\\appdata\\local\\programs\\python\\python310\\lib\\site-packages (from chromadb->-r requirements.txt (line 4)) (1.62.2)\n",
            "Requirement already satisfied: chroma-hnswlib==0.7.3 in c:\\users\\noora\\appdata\\local\\programs\\python\\python310\\lib\\site-packages (from chromadb->-r requirements.txt (line 4)) (0.7.3)\n",
            "Requirement already satisfied: fastapi>=0.95.2 in c:\\users\\noora\\appdata\\local\\programs\\python\\python310\\lib\\site-packages (from chromadb->-r requirements.txt (line 4)) (0.110.3)\n",
            "Requirement already satisfied: typer>=0.9.0 in c:\\users\\noora\\appdata\\local\\programs\\python\\python310\\lib\\site-packages (from chromadb->-r requirements.txt (line 4)) (0.12.3)\n",
            "Requirement already satisfied: opentelemetry-exporter-otlp-proto-grpc>=1.2.0 in c:\\users\\noora\\appdata\\local\\programs\\python\\python310\\lib\\site-packages (from chromadb->-r requirements.txt (line 4)) (1.24.0)\n",
            "Requirement already satisfied: overrides>=7.3.1 in c:\\users\\noora\\appdata\\local\\programs\\python\\python310\\lib\\site-packages (from chromadb->-r requirements.txt (line 4)) (7.7.0)\n",
            "Requirement already satisfied: tokenizers>=0.13.2 in c:\\users\\noora\\appdata\\local\\programs\\python\\python310\\lib\\site-packages (from chromadb->-r requirements.txt (line 4)) (0.15.2)\n",
            "Requirement already satisfied: typing-extensions>=4.5.0 in c:\\users\\noora\\appdata\\roaming\\python\\python310\\site-packages (from chromadb->-r requirements.txt (line 4)) (4.11.0)\n",
            "Requirement already satisfied: kubernetes>=28.1.0 in c:\\users\\noora\\appdata\\local\\programs\\python\\python310\\lib\\site-packages (from chromadb->-r requirements.txt (line 4)) (29.0.0)\n",
            "Requirement already satisfied: orjson>=3.9.12 in c:\\users\\noora\\appdata\\local\\programs\\python\\python310\\lib\\site-packages (from chromadb->-r requirements.txt (line 4)) (3.10.1)\n",
            "Requirement already satisfied: importlib-resources in c:\\users\\noora\\appdata\\local\\programs\\python\\python310\\lib\\site-packages (from chromadb->-r requirements.txt (line 4)) (6.4.0)\n",
            "Requirement already satisfied: uvicorn[standard]>=0.18.3 in c:\\users\\noora\\appdata\\local\\programs\\python\\python310\\lib\\site-packages (from chromadb->-r requirements.txt (line 4)) (0.29.0)\n",
            "Requirement already satisfied: mmh3>=4.0.1 in c:\\users\\noora\\appdata\\local\\programs\\python\\python310\\lib\\site-packages (from chromadb->-r requirements.txt (line 4)) (4.1.0)\n",
            "Requirement already satisfied: anyio<5,>=3.5.0 in c:\\users\\noora\\appdata\\local\\programs\\python\\python310\\lib\\site-packages (from groq->-r requirements.txt (line 5)) (4.3.0)\n",
            "Requirement already satisfied: distro<2,>=1.7.0 in c:\\users\\noora\\appdata\\local\\programs\\python\\python310\\lib\\site-packages (from groq->-r requirements.txt (line 5)) (1.9.0)\n",
            "Requirement already satisfied: sniffio in c:\\users\\noora\\appdata\\local\\programs\\python\\python310\\lib\\site-packages (from groq->-r requirements.txt (line 5)) (1.3.1)\n",
            "Requirement already satisfied: httpx<1,>=0.23.0 in c:\\users\\noora\\appdata\\local\\programs\\python\\python310\\lib\\site-packages (from groq->-r requirements.txt (line 5)) (0.27.0)\n",
            "Requirement already satisfied: huggingface-hub>=0.15.1 in c:\\users\\noora\\appdata\\local\\programs\\python\\python310\\lib\\site-packages (from sentence-transformers->-r requirements.txt (line 10)) (0.20.0)\n",
            "Requirement already satisfied: Pillow in c:\\users\\noora\\appdata\\local\\programs\\python\\python310\\lib\\site-packages (from sentence-transformers->-r requirements.txt (line 10)) (10.3.0)\n",
            "Requirement already satisfied: transformers<5.0.0,>=4.34.0 in c:\\users\\noora\\appdata\\local\\programs\\python\\python310\\lib\\site-packages (from sentence-transformers->-r requirements.txt (line 10)) (4.42.0.dev0)\n",
            "Requirement already satisfied: scikit-learn in c:\\users\\noora\\appdata\\local\\programs\\python\\python310\\lib\\site-packages (from sentence-transformers->-r requirements.txt (line 10)) (1.4.2)\n",
            "Requirement already satisfied: scipy in c:\\users\\noora\\appdata\\local\\programs\\python\\python310\\lib\\site-packages (from sentence-transformers->-r requirements.txt (line 10)) (1.13.0)\n",
            "Requirement already satisfied: torch>=1.11.0 in c:\\users\\noora\\appdata\\local\\programs\\python\\python310\\lib\\site-packages (from sentence-transformers->-r requirements.txt (line 10)) (2.3.0)\n",
            "Requirement already satisfied: frozenlist>=1.1.1 in c:\\users\\noora\\appdata\\local\\programs\\python\\python310\\lib\\site-packages (from aiohttp<4.0.0,>=3.8.3->langchain->-r requirements.txt (line 1)) (1.4.1)\n",
            "Requirement already satisfied: aiosignal>=1.1.2 in c:\\users\\noora\\appdata\\local\\programs\\python\\python310\\lib\\site-packages (from aiohttp<4.0.0,>=3.8.3->langchain->-r requirements.txt (line 1)) (1.3.1)\n",
            "Requirement already satisfied: multidict<7.0,>=4.5 in c:\\users\\noora\\appdata\\local\\programs\\python\\python310\\lib\\site-packages (from aiohttp<4.0.0,>=3.8.3->langchain->-r requirements.txt (line 1)) (6.0.5)\n",
            "Requirement already satisfied: attrs>=17.3.0 in c:\\users\\noora\\appdata\\local\\programs\\python\\python310\\lib\\site-packages (from aiohttp<4.0.0,>=3.8.3->langchain->-r requirements.txt (line 1)) (23.2.0)\n",
            "Requirement already satisfied: yarl<2.0,>=1.0 in c:\\users\\noora\\appdata\\local\\programs\\python\\python310\\lib\\site-packages (from aiohttp<4.0.0,>=3.8.3->langchain->-r requirements.txt (line 1)) (1.9.4)\n",
            "Requirement already satisfied: idna>=2.8 in c:\\users\\noora\\appdata\\local\\programs\\python\\python310\\lib\\site-packages (from anyio<5,>=3.5.0->groq->-r requirements.txt (line 5)) (3.7)\n",
            "Requirement already satisfied: exceptiongroup>=1.0.2 in c:\\users\\noora\\appdata\\roaming\\python\\python310\\site-packages (from anyio<5,>=3.5.0->groq->-r requirements.txt (line 5)) (1.2.1)\n",
            "Requirement already satisfied: colorama in c:\\users\\noora\\appdata\\roaming\\python\\python310\\site-packages (from build>=1.0.3->chromadb->-r requirements.txt (line 4)) (0.4.6)\n",
            "Requirement already satisfied: pyproject_hooks in c:\\users\\noora\\appdata\\local\\programs\\python\\python310\\lib\\site-packages (from build>=1.0.3->chromadb->-r requirements.txt (line 4)) (1.1.0)\n",
            "Requirement already satisfied: tomli>=1.1.0 in c:\\users\\noora\\appdata\\local\\programs\\python\\python310\\lib\\site-packages (from build>=1.0.3->chromadb->-r requirements.txt (line 4)) (2.0.1)\n",
            "Requirement already satisfied: packaging>=19.1 in c:\\users\\noora\\appdata\\local\\programs\\python\\python310\\lib\\site-packages (from build>=1.0.3->chromadb->-r requirements.txt (line 4)) (23.2)\n",
            "Requirement already satisfied: importlib-metadata>=4.6 in c:\\users\\noora\\appdata\\local\\programs\\python\\python310\\lib\\site-packages (from build>=1.0.3->chromadb->-r requirements.txt (line 4)) (7.0.0)\n",
            "Requirement already satisfied: marshmallow<4.0.0,>=3.18.0 in c:\\users\\noora\\appdata\\local\\programs\\python\\python310\\lib\\site-packages (from dataclasses-json<0.7,>=0.5.7->langchain->-r requirements.txt (line 1)) (3.21.1)\n",
            "Requirement already satisfied: typing-inspect<1,>=0.4.0 in c:\\users\\noora\\appdata\\local\\programs\\python\\python310\\lib\\site-packages (from dataclasses-json<0.7,>=0.5.7->langchain->-r requirements.txt (line 1)) (0.9.0)\n",
            "Requirement already satisfied: starlette<0.38.0,>=0.37.2 in c:\\users\\noora\\appdata\\local\\programs\\python\\python310\\lib\\site-packages (from fastapi>=0.95.2->chromadb->-r requirements.txt (line 4)) (0.37.2)\n",
            "Requirement already satisfied: certifi in c:\\users\\noora\\appdata\\local\\programs\\python\\python310\\lib\\site-packages (from httpx<1,>=0.23.0->groq->-r requirements.txt (line 5)) (2023.7.22)\n",
            "Requirement already satisfied: httpcore==1.* in c:\\users\\noora\\appdata\\local\\programs\\python\\python310\\lib\\site-packages (from httpx<1,>=0.23.0->groq->-r requirements.txt (line 5)) (1.0.5)\n",
            "Requirement already satisfied: h11<0.15,>=0.13 in c:\\users\\noora\\appdata\\local\\programs\\python\\python310\\lib\\site-packages (from httpcore==1.*->httpx<1,>=0.23.0->groq->-r requirements.txt (line 5)) (0.14.0)\n",
            "Requirement already satisfied: filelock in c:\\users\\noora\\appdata\\local\\programs\\python\\python310\\lib\\site-packages (from huggingface-hub>=0.15.1->sentence-transformers->-r requirements.txt (line 10)) (3.13.4)\n",
            "Requirement already satisfied: fsspec>=2023.5.0 in c:\\users\\noora\\appdata\\local\\programs\\python\\python310\\lib\\site-packages (from huggingface-hub>=0.15.1->sentence-transformers->-r requirements.txt (line 10)) (2024.3.1)\n",
            "Requirement already satisfied: zipp>=0.5 in c:\\users\\noora\\appdata\\local\\programs\\python\\python310\\lib\\site-packages (from importlib-metadata>=4.6->build>=1.0.3->chromadb->-r requirements.txt (line 4)) (3.18.1)\n",
            "Requirement already satisfied: jsonpointer>=1.9 in c:\\users\\noora\\appdata\\local\\programs\\python\\python310\\lib\\site-packages (from jsonpatch<2.0,>=1.33->langchain->-r requirements.txt (line 1)) (2.4)\n",
            "Requirement already satisfied: requests-oauthlib in c:\\users\\noora\\appdata\\local\\programs\\python\\python310\\lib\\site-packages (from kubernetes>=28.1.0->chromadb->-r requirements.txt (line 4)) (2.0.0)\n",
            "Requirement already satisfied: urllib3>=1.24.2 in c:\\users\\noora\\appdata\\local\\programs\\python\\python310\\lib\\site-packages (from kubernetes>=28.1.0->chromadb->-r requirements.txt (line 4)) (2.2.1)\n",
            "Requirement already satisfied: python-dateutil>=2.5.3 in c:\\users\\noora\\appdata\\roaming\\python\\python310\\site-packages (from kubernetes>=28.1.0->chromadb->-r requirements.txt (line 4)) (2.9.0.post0)\n",
            "Requirement already satisfied: google-auth>=1.0.1 in c:\\users\\noora\\appdata\\local\\programs\\python\\python310\\lib\\site-packages (from kubernetes>=28.1.0->chromadb->-r requirements.txt (line 4)) (2.29.0)\n",
            "Requirement already satisfied: oauthlib>=3.2.2 in c:\\users\\noora\\appdata\\local\\programs\\python\\python310\\lib\\site-packages (from kubernetes>=28.1.0->chromadb->-r requirements.txt (line 4)) (3.2.2)\n",
            "Requirement already satisfied: websocket-client!=0.40.0,!=0.41.*,!=0.42.*,>=0.32.0 in c:\\users\\noora\\appdata\\local\\programs\\python\\python310\\lib\\site-packages (from kubernetes>=28.1.0->chromadb->-r requirements.txt (line 4)) (1.8.0)\n",
            "Requirement already satisfied: six>=1.9.0 in c:\\users\\noora\\appdata\\roaming\\python\\python310\\site-packages (from kubernetes>=28.1.0->chromadb->-r requirements.txt (line 4)) (1.16.0)\n",
            "Requirement already satisfied: pyasn1-modules>=0.2.1 in c:\\users\\noora\\appdata\\local\\programs\\python\\python310\\lib\\site-packages (from google-auth>=1.0.1->kubernetes>=28.1.0->chromadb->-r requirements.txt (line 4)) (0.4.0)\n",
            "Requirement already satisfied: rsa<5,>=3.1.4 in c:\\users\\noora\\appdata\\local\\programs\\python\\python310\\lib\\site-packages (from google-auth>=1.0.1->kubernetes>=28.1.0->chromadb->-r requirements.txt (line 4)) (4.9)\n",
            "Requirement already satisfied: cachetools<6.0,>=2.0.0 in c:\\users\\noora\\appdata\\local\\programs\\python\\python310\\lib\\site-packages (from google-auth>=1.0.1->kubernetes>=28.1.0->chromadb->-r requirements.txt (line 4)) (5.3.3)\n",
            "Requirement already satisfied: protobuf in c:\\users\\noora\\appdata\\local\\programs\\python\\python310\\lib\\site-packages (from onnxruntime>=1.14.1->chromadb->-r requirements.txt (line 4)) (4.25.3)\n",
            "Requirement already satisfied: coloredlogs in c:\\users\\noora\\appdata\\local\\programs\\python\\python310\\lib\\site-packages (from onnxruntime>=1.14.1->chromadb->-r requirements.txt (line 4)) (15.0.1)\n",
            "Requirement already satisfied: sympy in c:\\users\\noora\\appdata\\local\\programs\\python\\python310\\lib\\site-packages (from onnxruntime>=1.14.1->chromadb->-r requirements.txt (line 4)) (1.12)\n",
            "Requirement already satisfied: flatbuffers in c:\\users\\noora\\appdata\\local\\programs\\python\\python310\\lib\\site-packages (from onnxruntime>=1.14.1->chromadb->-r requirements.txt (line 4)) (24.3.25)\n",
            "Requirement already satisfied: deprecated>=1.2.6 in c:\\users\\noora\\appdata\\local\\programs\\python\\python310\\lib\\site-packages (from opentelemetry-api>=1.2.0->chromadb->-r requirements.txt (line 4)) (1.2.14)\n",
            "Requirement already satisfied: wrapt<2,>=1.10 in c:\\users\\noora\\appdata\\local\\programs\\python\\python310\\lib\\site-packages (from deprecated>=1.2.6->opentelemetry-api>=1.2.0->chromadb->-r requirements.txt (line 4)) (1.16.0)\n",
            "Requirement already satisfied: opentelemetry-proto==1.24.0 in c:\\users\\noora\\appdata\\local\\programs\\python\\python310\\lib\\site-packages (from opentelemetry-exporter-otlp-proto-grpc>=1.2.0->chromadb->-r requirements.txt (line 4)) (1.24.0)\n",
            "Requirement already satisfied: opentelemetry-exporter-otlp-proto-common==1.24.0 in c:\\users\\noora\\appdata\\local\\programs\\python\\python310\\lib\\site-packages (from opentelemetry-exporter-otlp-proto-grpc>=1.2.0->chromadb->-r requirements.txt (line 4)) (1.24.0)\n",
            "Requirement already satisfied: googleapis-common-protos~=1.52 in c:\\users\\noora\\appdata\\local\\programs\\python\\python310\\lib\\site-packages (from opentelemetry-exporter-otlp-proto-grpc>=1.2.0->chromadb->-r requirements.txt (line 4)) (1.63.0)\n",
            "Requirement already satisfied: opentelemetry-semantic-conventions==0.45b0 in c:\\users\\noora\\appdata\\local\\programs\\python\\python310\\lib\\site-packages (from opentelemetry-instrumentation-fastapi>=0.41b0->chromadb->-r requirements.txt (line 4)) (0.45b0)\n",
            "Requirement already satisfied: opentelemetry-instrumentation-asgi==0.45b0 in c:\\users\\noora\\appdata\\local\\programs\\python\\python310\\lib\\site-packages (from opentelemetry-instrumentation-fastapi>=0.41b0->chromadb->-r requirements.txt (line 4)) (0.45b0)\n",
            "Requirement already satisfied: opentelemetry-util-http==0.45b0 in c:\\users\\noora\\appdata\\local\\programs\\python\\python310\\lib\\site-packages (from opentelemetry-instrumentation-fastapi>=0.41b0->chromadb->-r requirements.txt (line 4)) (0.45b0)\n",
            "Requirement already satisfied: opentelemetry-instrumentation==0.45b0 in c:\\users\\noora\\appdata\\local\\programs\\python\\python310\\lib\\site-packages (from opentelemetry-instrumentation-fastapi>=0.41b0->chromadb->-r requirements.txt (line 4)) (0.45b0)\n",
            "Requirement already satisfied: setuptools>=16.0 in c:\\users\\noora\\appdata\\local\\programs\\python\\python310\\lib\\site-packages (from opentelemetry-instrumentation==0.45b0->opentelemetry-instrumentation-fastapi>=0.41b0->chromadb->-r requirements.txt (line 4)) (69.5.1)\n",
            "Requirement already satisfied: asgiref~=3.0 in c:\\users\\noora\\appdata\\local\\programs\\python\\python310\\lib\\site-packages (from opentelemetry-instrumentation-asgi==0.45b0->opentelemetry-instrumentation-fastapi>=0.41b0->chromadb->-r requirements.txt (line 4)) (3.8.1)\n",
            "Requirement already satisfied: monotonic>=1.5 in c:\\users\\noora\\appdata\\local\\programs\\python\\python310\\lib\\site-packages (from posthog>=2.4.0->chromadb->-r requirements.txt (line 4)) (1.6)\n",
            "Requirement already satisfied: backoff>=1.10.0 in c:\\users\\noora\\appdata\\local\\programs\\python\\python310\\lib\\site-packages (from posthog>=2.4.0->chromadb->-r requirements.txt (line 4)) (2.2.1)\n",
            "Requirement already satisfied: pyasn1<0.7.0,>=0.4.6 in c:\\users\\noora\\appdata\\local\\programs\\python\\python310\\lib\\site-packages (from pyasn1-modules>=0.2.1->google-auth>=1.0.1->kubernetes>=28.1.0->chromadb->-r requirements.txt (line 4)) (0.6.0)\n",
            "Requirement already satisfied: pydantic-core==2.18.2 in c:\\users\\noora\\appdata\\local\\programs\\python\\python310\\lib\\site-packages (from pydantic<3,>=1->langchain->-r requirements.txt (line 1)) (2.18.2)\n",
            "Requirement already satisfied: annotated-types>=0.4.0 in c:\\users\\noora\\appdata\\local\\programs\\python\\python310\\lib\\site-packages (from pydantic<3,>=1->langchain->-r requirements.txt (line 1)) (0.6.0)\n",
            "Requirement already satisfied: charset-normalizer<4,>=2 in c:\\users\\noora\\appdata\\local\\programs\\python\\python310\\lib\\site-packages (from requests<3,>=2->langchain->-r requirements.txt (line 1)) (3.3.2)\n",
            "Requirement already satisfied: greenlet!=0.4.17 in c:\\users\\noora\\appdata\\local\\programs\\python\\python310\\lib\\site-packages (from SQLAlchemy<3,>=1.4->langchain->-r requirements.txt (line 1)) (3.0.3)\n",
            "Requirement already satisfied: jinja2 in c:\\users\\noora\\appdata\\local\\programs\\python\\python310\\lib\\site-packages (from torch>=1.11.0->sentence-transformers->-r requirements.txt (line 10)) (3.1.3)\n",
            "Requirement already satisfied: mkl<=2021.4.0,>=2021.1.1 in c:\\users\\noora\\appdata\\local\\programs\\python\\python310\\lib\\site-packages (from torch>=1.11.0->sentence-transformers->-r requirements.txt (line 10)) (2021.4.0)\n",
            "Requirement already satisfied: networkx in c:\\users\\noora\\appdata\\local\\programs\\python\\python310\\lib\\site-packages (from torch>=1.11.0->sentence-transformers->-r requirements.txt (line 10)) (3.3)\n",
            "Requirement already satisfied: tbb==2021.* in c:\\users\\noora\\appdata\\local\\programs\\python\\python310\\lib\\site-packages (from mkl<=2021.4.0,>=2021.1.1->torch>=1.11.0->sentence-transformers->-r requirements.txt (line 10)) (2021.12.0)\n",
            "Requirement already satisfied: intel-openmp==2021.* in c:\\users\\noora\\appdata\\local\\programs\\python\\python310\\lib\\site-packages (from mkl<=2021.4.0,>=2021.1.1->torch>=1.11.0->sentence-transformers->-r requirements.txt (line 10)) (2021.4.0)\n",
            "Requirement already satisfied: safetensors>=0.4.1 in c:\\users\\noora\\appdata\\local\\programs\\python\\python310\\lib\\site-packages (from transformers<5.0.0,>=4.34.0->sentence-transformers->-r requirements.txt (line 10)) (0.4.3)\n",
            "Collecting huggingface-hub>=0.15.1\n",
            "  Using cached huggingface_hub-0.23.1-py3-none-any.whl (401 kB)\n",
            "Requirement already satisfied: regex!=2019.12.17 in c:\\users\\noora\\appdata\\local\\programs\\python\\python310\\lib\\site-packages (from transformers<5.0.0,>=4.34.0->sentence-transformers->-r requirements.txt (line 10)) (2024.4.16)\n",
            "Collecting tokenizers>=0.13.2\n",
            "  Using cached tokenizers-0.19.1-cp310-none-win_amd64.whl (2.2 MB)\n",
            "Requirement already satisfied: shellingham>=1.3.0 in c:\\users\\noora\\appdata\\local\\programs\\python\\python310\\lib\\site-packages (from typer>=0.9.0->chromadb->-r requirements.txt (line 4)) (1.5.4)\n",
            "Requirement already satisfied: rich>=10.11.0 in c:\\users\\noora\\appdata\\local\\programs\\python\\python310\\lib\\site-packages (from typer>=0.9.0->chromadb->-r requirements.txt (line 4)) (13.7.1)\n",
            "Requirement already satisfied: click>=8.0.0 in c:\\users\\noora\\appdata\\local\\programs\\python\\python310\\lib\\site-packages (from typer>=0.9.0->chromadb->-r requirements.txt (line 4)) (8.1.7)\n",
            "Requirement already satisfied: markdown-it-py>=2.2.0 in c:\\users\\noora\\appdata\\local\\programs\\python\\python310\\lib\\site-packages (from rich>=10.11.0->typer>=0.9.0->chromadb->-r requirements.txt (line 4)) (3.0.0)\n",
            "Requirement already satisfied: pygments<3.0.0,>=2.13.0 in c:\\users\\noora\\appdata\\roaming\\python\\python310\\site-packages (from rich>=10.11.0->typer>=0.9.0->chromadb->-r requirements.txt (line 4)) (2.17.2)\n",
            "Requirement already satisfied: mdurl~=0.1 in c:\\users\\noora\\appdata\\local\\programs\\python\\python310\\lib\\site-packages (from markdown-it-py>=2.2.0->rich>=10.11.0->typer>=0.9.0->chromadb->-r requirements.txt (line 4)) (0.1.2)\n",
            "Requirement already satisfied: mypy-extensions>=0.3.0 in c:\\users\\noora\\appdata\\local\\programs\\python\\python310\\lib\\site-packages (from typing-inspect<1,>=0.4.0->dataclasses-json<0.7,>=0.5.7->langchain->-r requirements.txt (line 1)) (1.0.0)\n",
            "Requirement already satisfied: httptools>=0.5.0 in c:\\users\\noora\\appdata\\local\\programs\\python\\python310\\lib\\site-packages (from uvicorn[standard]>=0.18.3->chromadb->-r requirements.txt (line 4)) (0.6.1)\n",
            "Requirement already satisfied: watchfiles>=0.13 in c:\\users\\noora\\appdata\\local\\programs\\python\\python310\\lib\\site-packages (from uvicorn[standard]>=0.18.3->chromadb->-r requirements.txt (line 4)) (0.21.0)\n",
            "Requirement already satisfied: websockets>=10.4 in c:\\users\\noora\\appdata\\local\\programs\\python\\python310\\lib\\site-packages (from uvicorn[standard]>=0.18.3->chromadb->-r requirements.txt (line 4)) (12.0)\n",
            "Requirement already satisfied: humanfriendly>=9.1 in c:\\users\\noora\\appdata\\local\\programs\\python\\python310\\lib\\site-packages (from coloredlogs->onnxruntime>=1.14.1->chromadb->-r requirements.txt (line 4)) (10.0)\n",
            "Requirement already satisfied: pyreadline3 in c:\\users\\noora\\appdata\\local\\programs\\python\\python310\\lib\\site-packages (from humanfriendly>=9.1->coloredlogs->onnxruntime>=1.14.1->chromadb->-r requirements.txt (line 4)) (3.4.1)\n",
            "Requirement already satisfied: MarkupSafe>=2.0 in c:\\users\\noora\\appdata\\local\\programs\\python\\python310\\lib\\site-packages (from jinja2->torch>=1.11.0->sentence-transformers->-r requirements.txt (line 10)) (2.1.5)\n",
            "Requirement already satisfied: threadpoolctl>=2.0.0 in c:\\users\\noora\\appdata\\local\\programs\\python\\python310\\lib\\site-packages (from scikit-learn->sentence-transformers->-r requirements.txt (line 10)) (3.4.0)\n",
            "Requirement already satisfied: joblib>=1.2.0 in c:\\users\\noora\\appdata\\local\\programs\\python\\python310\\lib\\site-packages (from scikit-learn->sentence-transformers->-r requirements.txt (line 10)) (1.4.0)\n",
            "Requirement already satisfied: mpmath>=0.19 in c:\\users\\noora\\appdata\\local\\programs\\python\\python310\\lib\\site-packages (from sympy->onnxruntime>=1.14.1->chromadb->-r requirements.txt (line 4)) (1.3.0)\n",
            "Installing collected packages: huggingface-hub, tokenizers\n",
            "  Attempting uninstall: huggingface-hub\n",
            "    Found existing installation: huggingface-hub 0.20.0\n",
            "    Uninstalling huggingface-hub-0.20.0:\n",
            "      Successfully uninstalled huggingface-hub-0.20.0\n",
            "  Attempting uninstall: tokenizers\n",
            "    Found existing installation: tokenizers 0.15.2\n",
            "    Uninstalling tokenizers-0.15.2:\n",
            "      Successfully uninstalled tokenizers-0.15.2\n",
            "Successfully installed huggingface-hub-0.23.1 tokenizers-0.19.1\n"
          ]
        },
        {
          "name": "stderr",
          "output_type": "stream",
          "text": [
            "ERROR: pip's dependency resolver does not currently take into account all the packages that are installed. This behaviour is the source of the following dependency conflicts.\n",
            "fastembed 0.2.7 requires huggingface-hub<0.21,>=0.20, but you have huggingface-hub 0.23.1 which is incompatible.\n",
            "fastembed 0.2.7 requires tokenizers<0.16,>=0.15, but you have tokenizers 0.19.1 which is incompatible.\n",
            "WARNING: You are using pip version 21.2.3; however, version 24.0 is available.\n",
            "You should consider upgrading via the 'C:\\Users\\noora\\AppData\\Local\\Programs\\Python\\Python310\\python.exe -m pip install --upgrade pip' command.\n"
          ]
        }
      ],
      "source": [
        "!pip install -r requirements.txt"
      ]
    },
    {
      "cell_type": "code",
      "execution_count": null,
      "metadata": {
        "id": "5rIAc1RKlpBD",
        "outputId": "a43e58dc-c1d0-4f85-ded1-fb0c48365271"
      },
      "outputs": [
        {
          "name": "stdout",
          "output_type": "stream",
          "text": [
            "Requirement already satisfied: sentence-transformers in c:\\users\\noora\\appdata\\local\\programs\\python\\python310\\lib\\site-packages (2.7.0)\n",
            "Requirement already satisfied: huggingface-hub>=0.15.1 in c:\\users\\noora\\appdata\\local\\programs\\python\\python310\\lib\\site-packages (from sentence-transformers) (0.23.1)\n",
            "Requirement already satisfied: scikit-learn in c:\\users\\noora\\appdata\\local\\programs\\python\\python310\\lib\\site-packages (from sentence-transformers) (1.4.2)\n",
            "Requirement already satisfied: Pillow in c:\\users\\noora\\appdata\\local\\programs\\python\\python310\\lib\\site-packages (from sentence-transformers) (10.3.0)\n",
            "Requirement already satisfied: transformers<5.0.0,>=4.34.0 in c:\\users\\noora\\appdata\\local\\programs\\python\\python310\\lib\\site-packages (from sentence-transformers) (4.42.0.dev0)\n",
            "Requirement already satisfied: tqdm in c:\\users\\noora\\appdata\\local\\programs\\python\\python310\\lib\\site-packages (from sentence-transformers) (4.66.2)\n",
            "Requirement already satisfied: torch>=1.11.0 in c:\\users\\noora\\appdata\\local\\programs\\python\\python310\\lib\\site-packages (from sentence-transformers) (2.3.0)\n",
            "Requirement already satisfied: scipy in c:\\users\\noora\\appdata\\local\\programs\\python\\python310\\lib\\site-packages (from sentence-transformers) (1.13.0)\n",
            "Requirement already satisfied: numpy in c:\\users\\noora\\appdata\\local\\programs\\python\\python310\\lib\\site-packages (from sentence-transformers) (1.26.4)\n",
            "Requirement already satisfied: requests in c:\\users\\noora\\appdata\\local\\programs\\python\\python310\\lib\\site-packages (from huggingface-hub>=0.15.1->sentence-transformers) (2.31.0)\n",
            "Requirement already satisfied: pyyaml>=5.1 in c:\\users\\noora\\appdata\\local\\programs\\python\\python310\\lib\\site-packages (from huggingface-hub>=0.15.1->sentence-transformers) (6.0.1)\n",
            "Requirement already satisfied: packaging>=20.9 in c:\\users\\noora\\appdata\\local\\programs\\python\\python310\\lib\\site-packages (from huggingface-hub>=0.15.1->sentence-transformers) (23.2)\n",
            "Requirement already satisfied: typing-extensions>=3.7.4.3 in c:\\users\\noora\\appdata\\roaming\\python\\python310\\site-packages (from huggingface-hub>=0.15.1->sentence-transformers) (4.11.0)\n",
            "Requirement already satisfied: fsspec>=2023.5.0 in c:\\users\\noora\\appdata\\local\\programs\\python\\python310\\lib\\site-packages (from huggingface-hub>=0.15.1->sentence-transformers) (2024.3.1)\n",
            "Requirement already satisfied: filelock in c:\\users\\noora\\appdata\\local\\programs\\python\\python310\\lib\\site-packages (from huggingface-hub>=0.15.1->sentence-transformers) (3.13.4)\n",
            "Requirement already satisfied: sympy in c:\\users\\noora\\appdata\\local\\programs\\python\\python310\\lib\\site-packages (from torch>=1.11.0->sentence-transformers) (1.12)\n",
            "Requirement already satisfied: networkx in c:\\users\\noora\\appdata\\local\\programs\\python\\python310\\lib\\site-packages (from torch>=1.11.0->sentence-transformers) (3.3)\n",
            "Requirement already satisfied: jinja2 in c:\\users\\noora\\appdata\\local\\programs\\python\\python310\\lib\\site-packages (from torch>=1.11.0->sentence-transformers) (3.1.3)\n",
            "Requirement already satisfied: mkl<=2021.4.0,>=2021.1.1 in c:\\users\\noora\\appdata\\local\\programs\\python\\python310\\lib\\site-packages (from torch>=1.11.0->sentence-transformers) (2021.4.0)\n",
            "Requirement already satisfied: intel-openmp==2021.* in c:\\users\\noora\\appdata\\local\\programs\\python\\python310\\lib\\site-packages (from mkl<=2021.4.0,>=2021.1.1->torch>=1.11.0->sentence-transformers) (2021.4.0)\n",
            "Requirement already satisfied: tbb==2021.* in c:\\users\\noora\\appdata\\local\\programs\\python\\python310\\lib\\site-packages (from mkl<=2021.4.0,>=2021.1.1->torch>=1.11.0->sentence-transformers) (2021.12.0)\n",
            "Requirement already satisfied: colorama in c:\\users\\noora\\appdata\\roaming\\python\\python310\\site-packages (from tqdm->sentence-transformers) (0.4.6)\n",
            "Requirement already satisfied: regex!=2019.12.17 in c:\\users\\noora\\appdata\\local\\programs\\python\\python310\\lib\\site-packages (from transformers<5.0.0,>=4.34.0->sentence-transformers) (2024.4.16)\n",
            "Requirement already satisfied: safetensors>=0.4.1 in c:\\users\\noora\\appdata\\local\\programs\\python\\python310\\lib\\site-packages (from transformers<5.0.0,>=4.34.0->sentence-transformers) (0.4.3)\n",
            "Requirement already satisfied: tokenizers<0.20,>=0.19 in c:\\users\\noora\\appdata\\local\\programs\\python\\python310\\lib\\site-packages (from transformers<5.0.0,>=4.34.0->sentence-transformers) (0.19.1)\n",
            "Requirement already satisfied: MarkupSafe>=2.0 in c:\\users\\noora\\appdata\\local\\programs\\python\\python310\\lib\\site-packages (from jinja2->torch>=1.11.0->sentence-transformers) (2.1.5)\n",
            "Requirement already satisfied: urllib3<3,>=1.21.1 in c:\\users\\noora\\appdata\\local\\programs\\python\\python310\\lib\\site-packages (from requests->huggingface-hub>=0.15.1->sentence-transformers) (2.2.1)\n",
            "Requirement already satisfied: idna<4,>=2.5 in c:\\users\\noora\\appdata\\local\\programs\\python\\python310\\lib\\site-packages (from requests->huggingface-hub>=0.15.1->sentence-transformers) (3.7)\n",
            "Requirement already satisfied: charset-normalizer<4,>=2 in c:\\users\\noora\\appdata\\local\\programs\\python\\python310\\lib\\site-packages (from requests->huggingface-hub>=0.15.1->sentence-transformers) (3.3.2)\n",
            "Requirement already satisfied: certifi>=2017.4.17 in c:\\users\\noora\\appdata\\local\\programs\\python\\python310\\lib\\site-packages (from requests->huggingface-hub>=0.15.1->sentence-transformers) (2023.7.22)\n",
            "Requirement already satisfied: threadpoolctl>=2.0.0 in c:\\users\\noora\\appdata\\local\\programs\\python\\python310\\lib\\site-packages (from scikit-learn->sentence-transformers) (3.4.0)\n",
            "Requirement already satisfied: joblib>=1.2.0 in c:\\users\\noora\\appdata\\local\\programs\\python\\python310\\lib\\site-packages (from scikit-learn->sentence-transformers) (1.4.0)\n",
            "Requirement already satisfied: mpmath>=0.19 in c:\\users\\noora\\appdata\\local\\programs\\python\\python310\\lib\\site-packages (from sympy->torch>=1.11.0->sentence-transformers) (1.3.0)\n"
          ]
        },
        {
          "name": "stderr",
          "output_type": "stream",
          "text": [
            "WARNING: You are using pip version 21.2.3; however, version 24.0 is available.\n",
            "You should consider upgrading via the 'C:\\Users\\noora\\AppData\\Local\\Programs\\Python\\Python310\\python.exe -m pip install --upgrade pip' command.\n"
          ]
        }
      ],
      "source": [
        "!pip install sentence-transformers"
      ]
    },
    {
      "cell_type": "code",
      "execution_count": null,
      "metadata": {
        "id": "w8x_c2xUlpBD",
        "outputId": "02620138-f9ca-4680-e62f-d7d746f4b5ed"
      },
      "outputs": [
        {
          "name": "stdout",
          "output_type": "stream",
          "text": [
            "2024-05-26 21:59:26 - Loaded .env file\n"
          ]
        }
      ],
      "source": [
        "from langchain_community.document_loaders import PyPDFDirectoryLoader\n",
        "from langchain.text_splitter import RecursiveCharacterTextSplitter\n",
        "from langchain_groq import ChatGroq\n",
        "from dotenv import load_dotenv\n",
        "import os\n",
        "from langchain_core.prompts import ChatPromptTemplate\n",
        "from langchain.chains.combine_documents import create_stuff_documents_chain\n",
        "from langchain.chains import create_retrieval_chain\n",
        "from langchain_community.vectorstores import FAISS\n",
        "from langchain_community.embeddings import HuggingFaceBgeEmbeddings"
      ]
    },
    {
      "cell_type": "code",
      "execution_count": null,
      "metadata": {
        "id": "521ZO1KelpBE",
        "outputId": "c8a7c842-6258-4274-b789-6a4dea920dfe"
      },
      "outputs": [
        {
          "data": {
            "text/plain": [
              "True"
            ]
          },
          "execution_count": 2,
          "metadata": {},
          "output_type": "execute_result"
        }
      ],
      "source": [
        "load_dotenv()"
      ]
    },
    {
      "cell_type": "code",
      "execution_count": null,
      "metadata": {
        "id": "cwSwlyaWlpBE"
      },
      "outputs": [],
      "source": [
        "groq_api_key = os.environ['GROQ_API_KEY']"
      ]
    },
    {
      "cell_type": "code",
      "execution_count": null,
      "metadata": {
        "id": "esR4mBpAlpBF"
      },
      "outputs": [],
      "source": [
        "llm_groq = ChatGroq(groq_api_key=groq_api_key, model_name=\"Llama3-8b-8192\")"
      ]
    },
    {
      "cell_type": "code",
      "execution_count": null,
      "metadata": {
        "id": "-m7Wy6HnlpBF",
        "outputId": "4312dab6-f370-462e-e5ae-b9a0ca534adb"
      },
      "outputs": [
        {
          "data": {
            "text/plain": [
              "Document(page_content='VI. BUsINEss ENVIRoNMENt:\\nthe year that was:\\nIt has been an eventful year for both global and domestic economy which was marked by events like Brexit, referendums in \\nEurozone, geo-political issues and Presidential Elections in United States, UK & France and Demonetization in India. Despite these uncertainties, we saw Indian economy emerge as one of the best performing economy amongst the emerging markets.', metadata={'source': 'pdf\\\\amc-annual-report---2016---17.pdf', 'page': 4})"
            ]
          },
          "execution_count": 5,
          "metadata": {},
          "output_type": "execute_result"
        }
      ],
      "source": [
        "## Read the ppdfs from the folder\n",
        "loader=PyPDFDirectoryLoader(\"pdf\")\n",
        "\n",
        "documents=loader.load()\n",
        "\n",
        "text_splitter=RecursiveCharacterTextSplitter(chunk_size=1000,chunk_overlap=200)\n",
        "\n",
        "final_documents=text_splitter.split_documents(documents)\n",
        "final_documents[10]"
      ]
    },
    {
      "cell_type": "code",
      "execution_count": null,
      "metadata": {
        "id": "qylocpNnlpBG",
        "outputId": "eae0c0f1-6aa4-45ad-96d2-1d796d4c26ac"
      },
      "outputs": [
        {
          "name": "stderr",
          "output_type": "stream",
          "text": [
            "c:\\Users\\noora\\AppData\\Local\\Programs\\Python\\Python310\\lib\\site-packages\\tqdm\\auto.py:21: TqdmWarning: IProgress not found. Please update jupyter and ipywidgets. See https://ipywidgets.readthedocs.io/en/stable/user_install.html\n",
            "  from .autonotebook import tqdm as notebook_tqdm\n"
          ]
        },
        {
          "name": "stdout",
          "output_type": "stream",
          "text": [
            "2024-05-26 21:59:55 - Load pretrained SentenceTransformer: BAAI/bge-small-en-v1.5\n"
          ]
        },
        {
          "name": "stderr",
          "output_type": "stream",
          "text": [
            "c:\\Users\\noora\\AppData\\Local\\Programs\\Python\\Python310\\lib\\site-packages\\huggingface_hub\\file_download.py:1132: FutureWarning: `resume_download` is deprecated and will be removed in version 1.0.0. Downloads always resume when possible. If you want to force a new download, use `force_download=True`.\n",
            "  warnings.warn(\n"
          ]
        }
      ],
      "source": [
        "#embeddings = OpenAIEmbeddings()\n",
        "huggingface_embeddings=HuggingFaceBgeEmbeddings(\n",
        "    model_name=\"BAAI/bge-small-en-v1.5\",\n",
        "    model_kwargs={'device':'cpu'},\n",
        "    encode_kwargs={'normalize_embeddings':True}\n",
        "\n",
        ")"
      ]
    },
    {
      "cell_type": "code",
      "execution_count": null,
      "metadata": {
        "id": "SfWF9J7AlpBG"
      },
      "outputs": [],
      "source": [
        "#embedding = FastEmbedEmbeddings()"
      ]
    },
    {
      "cell_type": "code",
      "execution_count": null,
      "metadata": {
        "id": "ZWfBGRRmlpBH",
        "outputId": "35326338-397a-42b1-96eb-d6cc317a6fa9"
      },
      "outputs": [
        {
          "name": "stderr",
          "output_type": "stream",
          "text": [
            "Batches: 100%|██████████| 90/90 [09:40<00:00,  6.45s/it]"
          ]
        },
        {
          "name": "stdout",
          "output_type": "stream",
          "text": [
            "2024-05-26 22:09:40 - Loading faiss with AVX2 support.\n",
            "2024-05-26 22:09:40 - Successfully loaded faiss with AVX2 support.\n"
          ]
        },
        {
          "name": "stderr",
          "output_type": "stream",
          "text": [
            "\n"
          ]
        },
        {
          "data": {
            "text/plain": [
              "<langchain_community.vectorstores.faiss.FAISS at 0x225c67b6b00>"
            ]
          },
          "execution_count": 8,
          "metadata": {},
          "output_type": "execute_result"
        }
      ],
      "source": [
        "vectorstore=FAISS.from_documents(final_documents ,huggingface_embeddings)\n",
        "vectorstore"
      ]
    },
    {
      "cell_type": "code",
      "execution_count": null,
      "metadata": {
        "id": "pIrQwI5qlpBH"
      },
      "outputs": [],
      "source": [
        "prompt = ChatPromptTemplate.from_template(\n",
        "\"\"\"\n",
        "You are Question-answering bot.\n",
        "I want you to ptovide accurate and precise response from the document for the query given by the user.\n",
        "<context>\n",
        "{context}\n",
        "<context>\n",
        "Questions:{input}\n",
        "\n",
        "\"\"\"\n",
        ")"
      ]
    },
    {
      "cell_type": "code",
      "execution_count": null,
      "metadata": {
        "id": "9wP5rUJ4lpBH"
      },
      "outputs": [],
      "source": [
        "document_chain=create_stuff_documents_chain(llm_groq, prompt)"
      ]
    },
    {
      "cell_type": "code",
      "execution_count": null,
      "metadata": {
        "id": "ZlEM0LoxlpBH"
      },
      "outputs": [],
      "source": [
        "retriever=vectorstore.as_retriever()"
      ]
    },
    {
      "cell_type": "code",
      "execution_count": null,
      "metadata": {
        "id": "aQDFvS1YlpBI"
      },
      "outputs": [],
      "source": [
        "retrieval_chain=create_retrieval_chain(retriever,document_chain)"
      ]
    },
    {
      "cell_type": "code",
      "execution_count": null,
      "metadata": {
        "id": "42iXcKvclpBI",
        "outputId": "aed13fdb-90c4-4388-f73b-8d042f969d84"
      },
      "outputs": [
        {
          "name": "stderr",
          "output_type": "stream",
          "text": [
            "Batches: 100%|██████████| 1/1 [00:00<00:00, 13.88it/s]\n"
          ]
        },
        {
          "name": "stdout",
          "output_type": "stream",
          "text": [
            "2024-05-26 22:23:40 - HTTP Request: POST https://api.groq.com/openai/v1/chat/completions \"HTTP/1.1 200 OK\"\n",
            "Here is the table:\n",
            "\n",
            "**CONSOLIDATED BALANCE SHEET AS AT 31 MARCH 2019**\n",
            "\n",
            "(` In Lakh)\n",
            "\n",
            "**Particulars** | **Note** | **As at 31 Mar 2019** | **As at 31 Mar 2018** | **As at 01 April 2017**\n",
            "-------------------|----------|---------------------|---------------------|---------------------\n",
            "**ASSETS**\n",
            "(1) Financial Assets |  |  |  | \n",
            "(a) Cash & Cash equivalents | 2 | 607.33 | 405.82 | 765.34 \n",
            "(b) Bank Balance other than (a) above | 3 | 10,324.26 | 7,619.21 | 8,574.60 \n",
            "(c) Receivables | 4 | 2,759.16 | 10,030.32 | 2,363.11 \n",
            "(d) Investments | 5 | 1,09,349.01 | 66,079.72 | 53,953.97 \n",
            "(e) Other Financial assets | 6 | 730.13 | 705.60 | 577.55 \n",
            "(2) Non Financial Assets |  |  |  | \n",
            "(a) Current Tax assets (Net) | 7 | 3,633.84 | 1,910.40 | 1,851.45 \n",
            "(b) Deferred Tax assets (Net) | 8 |  | 183.01 |  |\n",
            "(c) Property, Plant and Equipment | 9 | 17,260.77 | 16,623.51 | 16,618.11 \n",
            "(d) Capital work-in-progress |  | 34.75 | 5.98 | 15.92 \n",
            "(e) Intangible assets under development |  |  | 164.59 | 216.55 \n",
            "(f) Other Intangible assets | 10 | 899.03 | 940.27 | 1,034.79\n",
            "\n",
            "Let me know if you need anything else!\n"
          ]
        }
      ],
      "source": [
        "response=retrieval_chain.invoke({'input':\"Print the table CONSOLIDATED BALANCE SHEET AS AT 31 MARCH 2019?\"})\n",
        "print(response['answer'])"
      ]
    },
    {
      "cell_type": "code",
      "execution_count": null,
      "metadata": {
        "id": "KJPesq-BlpBI",
        "outputId": "87b3745f-255c-4094-efbb-f9c09a831c4c"
      },
      "outputs": [
        {
          "name": "stderr",
          "output_type": "stream",
          "text": [
            "Batches: 100%|██████████| 1/1 [00:00<00:00, 24.38it/s]\n"
          ]
        },
        {
          "name": "stdout",
          "output_type": "stream",
          "text": [
            "2024-05-26 22:25:34 - HTTP Request: POST https://api.groq.com/openai/v1/chat/completions \"HTTP/1.1 200 OK\"\n",
            "Here is the table RIGHT TO USE ASSET - AS AT 31 MAR 2022:\n",
            "\n",
            "**RIGHT TO USE ASSET - AS AT 31 MAR 2022**\n",
            "\n",
            "**Particulars** | **Gross Block (At Cost)** | **Accumulated Depreciation** | **Net Block**\n",
            "---------------------|-------------------------|-------------------------|---------------------\n",
            "**Building** | 10,329.95 | 3,082.59 | 7,247.36\n",
            "**Computers** | 724.33 | 52.20 | 672.13\n",
            "**Vehicle** | 107.44 | - | 107.44\n",
            "**Grand Total** | 11,161.72 | 3,134.79 | 7,026.93\n"
          ]
        }
      ],
      "source": [
        "response=retrieval_chain.invoke({'input':\"Print the table RIGHT TO USE ASSET - AS AT 31 MAR 2022?\"})\n",
        "print(response['answer'])"
      ]
    },
    {
      "cell_type": "code",
      "execution_count": null,
      "metadata": {
        "id": "SVCHYIKmlpBI",
        "outputId": "c5756655-bc91-4590-e542-1e23e5594d92"
      },
      "outputs": [
        {
          "name": "stderr",
          "output_type": "stream",
          "text": [
            "Batches: 100%|██████████| 1/1 [00:00<00:00,  8.34it/s]\n"
          ]
        },
        {
          "name": "stdout",
          "output_type": "stream",
          "text": [
            "2024-05-26 22:27:15 - HTTP Request: POST https://api.groq.com/openai/v1/chat/completions \"HTTP/1.1 200 OK\"\n",
            "Based on the provided context, I will print the table for MATURITY ANALYSIS  OF ASSETS AND LIABILITIES As at March 31, 2020:\n",
            "\n",
            "**MATURITY ANALYSIS  OF ASSETS AND LIABILITIES**\n",
            "**As at March 31, 2020**\n",
            "\n",
            "**ASSETS**\n",
            "\n",
            "**(1) Financial Assets**\n",
            "\n",
            "| Particulars | Within 12 months | After 12 months | Total |\n",
            "| --- | --- | --- | --- |\n",
            "| Cash & Cash equivalents | - | 783.37 | 783.37 |\n",
            "| Bank Balance other than above | 2,174.43 | - | 2,174.43 |\n",
            "| Receivables | 4,032.39 | - | 4,032.39 |\n",
            "| Other Receivables | - | - | - |\n",
            "| Investments | 11,217.85 | 163,710.03 | 174,927.88 |\n",
            "\n",
            "**Total Financial Assets** | - | 174,927.88 | 174,927.88 |\n",
            "\n",
            "**Liabilities**\n",
            "\n",
            "| (Information not provided in the given context |  |\n",
            "\n",
            "Please note that the table only presents the information available in the provided context. If you would like to ask another question or seek further clarification, please feel free to do so.\n"
          ]
        }
      ],
      "source": [
        "response=retrieval_chain.invoke({'input':\"Print the table for MATURITY ANALYSIS  OF ASSETS AND LIABILITIES As at March 31, 2020?\"})\n",
        "print(response['answer'])"
      ]
    },
    {
      "cell_type": "code",
      "execution_count": null,
      "metadata": {
        "id": "oQ9yb28LlpBJ",
        "outputId": "f3e3d996-9b3d-4876-9600-6a1969ce3e42"
      },
      "outputs": [
        {
          "name": "stderr",
          "output_type": "stream",
          "text": [
            "Batches: 100%|██████████| 1/1 [00:00<00:00, 20.49it/s]\n"
          ]
        },
        {
          "name": "stdout",
          "output_type": "stream",
          "text": [
            "2024-05-26 22:28:57 - HTTP Request: POST https://api.groq.com/openai/v1/chat/completions \"HTTP/1.1 200 OK\"\n",
            "Based on the provided context, the table for RESERVES AND SURPLUS for the year 2017-18 is:\n",
            "\n",
            "SBI FUNDS MANAGEMENT PRIVATE LIMITED44\n",
            "3 RESERVES AND SURPLUS  \n",
            " As at \n",
            "31-Mar-2018 As at \n",
            "31-Mar-2017\n",
            "` (in lacs) ` (in lacs)\n",
            "General Reserve\n",
            "Balance at the beginning of the year  9,260.09  8,760.09 \n",
            "Add: Transfer from statement of profit and loss  500.00  500.00 \n",
            "Balance at the end of the year (A)  9,760.09  9,260.09 \n",
            "Surplus in statement of profit and loss\n",
            "Balance at the beginning of the year  62,837.75  49,330.95 \n",
            "Add: Profit  for the year  33,103.31  22,431.86 \n",
            "Less: Transfer to general reserve  500.00  500.00 \n",
            "Less: Interim dividend  7,000.00  7,000.00 \n",
            "Less: Tax on interim dividend  1,425.06  1,425.06 \n",
            "Balance at the end of the year (B)  87,016.00  62,837.75 \n",
            "Share option outstanding account (Employee stock options)\n",
            "Balance at the beginning of the year  -    -   \n",
            "Additions during the year  104.30  -   \n",
            "Balance at the end of the year (C)\n",
            " 104.30  -   \n",
            "total (A+B+C)  96,880.39  72,097.84\n"
          ]
        }
      ],
      "source": [
        "response=retrieval_chain.invoke({'input':\"Print the table for RESERVES AND SURPLUS for the year 2017-18?\"})\n",
        "print(response['answer'])"
      ]
    },
    {
      "cell_type": "code",
      "execution_count": null,
      "metadata": {
        "id": "RaZ3qxaWlpBJ",
        "outputId": "8da4c23c-79f2-412f-86c4-935313194809"
      },
      "outputs": [
        {
          "name": "stderr",
          "output_type": "stream",
          "text": [
            "Batches: 100%|██████████| 1/1 [00:00<00:00, 22.95it/s]\n"
          ]
        },
        {
          "name": "stdout",
          "output_type": "stream",
          "text": [
            "2024-05-26 22:31:18 - HTTP Request: POST https://api.groq.com/openai/v1/chat/completions \"HTTP/1.1 200 OK\"\n",
            "Here is the table for 8. DEFERRED TAX for the year 2020-21:\n",
            "\n",
            "**Deferred Tax**\n",
            "\n",
            "**Particulars**         **As at 31 Mar 2021**         **As at 31 Mar 2020**\n",
            "\n",
            "* Deferred Tax Assets/(Liabilities) (net)         **(1,801.63)**         **(334.07)**\n",
            "\n",
            "Here is the breakdown of the deferred tax assets and liabilities:\n",
            "\n",
            "* **Provision for compensated absences**         **613.24**         **537.77**\n",
            "* **Provision for gratuity**         **75.67**         **42.08**\n",
            "* **Amortization /Depreciation on tangible /intangible assets**         **56.30**         **(45.15)**\n",
            "* **Others including 40(a) and 43B items**         **702.40**         **451.42**\n",
            "* **Fair value of Investment (Net)**         **(3,378.19)**         **(1,395.84)**\n",
            "* **Security Deposit**         **2.46**         **2.20**\n",
            "* **Right to use assets**         **126.49**         **73.45**\n",
            "\n",
            "Let me know if you have any further questions!\n"
          ]
        }
      ],
      "source": [
        "response=retrieval_chain.invoke({'input':\"Print the table for 8. DEFERRED TAX for the year 2020-21?\"})\n",
        "print(response['answer'])"
      ]
    },
    {
      "cell_type": "code",
      "execution_count": null,
      "metadata": {
        "id": "wiKIR6OSlpBJ",
        "outputId": "0970eea6-d784-4e2c-d59b-bb8a66fc8be8"
      },
      "outputs": [
        {
          "name": "stderr",
          "output_type": "stream",
          "text": [
            "Batches: 100%|██████████| 1/1 [00:00<00:00, 15.54it/s]\n"
          ]
        },
        {
          "name": "stdout",
          "output_type": "stream",
          "text": [
            "2024-05-26 22:32:23 - HTTP Request: POST https://api.groq.com/openai/v1/chat/completions \"HTTP/1.1 200 OK\"\n",
            "Based on the provided context, I can extract the relevant table for you. Here is the table for 14. OTHER FINANCIAL LIABILITIES for the year 2022-23:\n",
            "\n",
            "**14. OTHER FINANCIAL LIABILITIES**\n",
            "\n",
            "**Particulars**                             **As at 31 Mar 2023**  **As at 31 Mar 2022**\n",
            "\n",
            "* CSR Payable                         $ 365.75          $ 458.95\n",
            "* Other liabilities\n",
            "    i. Earnest money deposit      * $ 2.45          $ 1.97\n",
            "    ii. Retention money *         $ 35.03          $ 23.23\n",
            "    iii. Interim Dividend payable * $ 2.30          $ -\n",
            "    iv. Creditors for capital expenditure* $ 37.02          $ 150.10\n",
            "    v. Lease liabilities        $ 8,392.67          $ 7,342.66\n",
            "    vi. Expenses payable          $ 38.53          $ 93.24\n",
            "* Total                          $ 8,873.75          $ 8,070.15\n"
          ]
        }
      ],
      "source": [
        "response=retrieval_chain.invoke({'input':\"Print the table for 14. OTHER FINANCIAL LIABILITIES for the year 2022-23?\"})\n",
        "print(response['answer'])"
      ]
    },
    {
      "cell_type": "code",
      "execution_count": null,
      "metadata": {
        "id": "OPFYzoDklpBJ",
        "outputId": "be71767a-170e-47d5-f7a6-2cdc4a55345a"
      },
      "outputs": [
        {
          "name": "stderr",
          "output_type": "stream",
          "text": [
            "Batches: 100%|██████████| 1/1 [00:00<00:00, 24.25it/s]\n"
          ]
        },
        {
          "name": "stdout",
          "output_type": "stream",
          "text": [
            "2024-05-26 22:35:34 - HTTP Request: POST https://api.groq.com/openai/v1/chat/completions \"HTTP/1.1 200 OK\"\n",
            "Based on the provided document, here is the table for the CONSOLIDATED CASH FLOW STATEMENT FOR THE YEAR ENDED MARCH 31, 2017:\n",
            "\n",
            "**CONSOLIDATED CASH FLOW STATEMENT FOR THE YEAR ENDED MARCH 31, 2017**\n",
            "\n",
            "**Particulars** | **For Year end 31-Mar-2017** | **For Year end 31-Mar-2016**\n",
            "\n",
            "**Cash Flow from Operating Activities**\n",
            "\n",
            "* Net profit Before Tax | 32,967.48 | 25,098.22\n",
            "* Adjustments for:\n",
            "\t+ Depreciation and amortisation | 1,260.74 | 974.71\n",
            "\t+ (Profit) /Loss on sale of fixed assets (Net) | (1.54) | (0.44)\n",
            "\t+ Gains on sale /redemption of current investments | (3,050.49) | (361.95)\n",
            "\t+ Gains on sale /redemption of non-current investments | (143.34) | -\n",
            "\t+ Interest income | (319.25) | (127.18)\n",
            "\t+ Dividend income from current investments | (468.95) | -\n",
            "\t+ Dividend income from non-current investments | (90.55) | (418.39)\n",
            "* Operating profit before working capital changes | 30,154.10 | 25,164.97\n",
            "* Decrease / (Increase) in trade receivables | (61.53) | (435.39)\n",
            "* Decrease / (Increase) in long term loans and advances | (569.21) | 2,098.00\n",
            "* Decrease / (Increase) in other non current assets | - | 3.22\n",
            "\n",
            "Let me know if you'd like me to help with anything else!\n"
          ]
        }
      ],
      "source": [
        "response=retrieval_chain.invoke({'input':\"Print the table for CONSOLIDATED CASH FLOW STATEMENT FOR THE YEAR ENDED MARCH 31, 2017?\"})\n",
        "print(response['answer'])"
      ]
    },
    {
      "cell_type": "code",
      "execution_count": null,
      "metadata": {
        "id": "D8C-7N7ylpBJ",
        "outputId": "11f227d4-e552-4ee7-d98e-00d24349b7d4"
      },
      "outputs": [
        {
          "name": "stderr",
          "output_type": "stream",
          "text": [
            "Batches: 100%|██████████| 1/1 [00:00<00:00, 24.82it/s]\n"
          ]
        },
        {
          "name": "stdout",
          "output_type": "stream",
          "text": [
            "2024-05-26 22:36:57 - HTTP Request: POST https://api.groq.com/openai/v1/chat/completions \"HTTP/1.1 200 OK\"\n",
            "Here is the table for 9.1  PROPERTY, PLANT AND EQUIPMENT - AS AT 31 MAR 2021:\n",
            "\n",
            "```\n",
            "Particulars          Gross Block (At Cost)  Accumulated Depreciation  Net Block\n",
            "As at 01.04.2020    15,018.24          -              -        15,018.24\n",
            "Additions for the year    -              -              -        -\n",
            "Deductions/Adjustments/Reclassification for the year    -              -        -\n",
            "As at 31.03.2021    15,018.24          801.15         267.05     1,068.20\n",
            "Upto 01.04.2020    15,018.24          534.10         267.05     14,217.09\n",
            "For the year    -              -              -        -\n",
            "Deductions/Adjustments/Reclassification for the year    -              -        -\n",
            "Upto 31.03.2021    15,018.24          801.15         267.05     1,068.20\n",
            "As at 31.03.2021    15,018.24          801.15         267.05     1,068.20\n",
            "\n",
            "Building (refer note i )    15,018.24          -              -        15,018.24\n",
            "Electrical Fittings (including Building Management Systems)    78.78          1.25         2.74        77.29\n",
            "Furniture and Fixtures    716.97          24.04         1.67        739.34\n",
            "Vehicles    53.64          -              -        53.64\n",
            "Office Equipment's    611.31          99.58         2.27        708.62\n",
            "Computers    2,704.60          49.76         0.95        2,753.41\n",
            "```\n",
            "\n",
            "Note: The table is formatted to match the original text, with the columns for \"Gross Block (At Cost)\", \"Accumulated Depreciation\", and \"Net Block\".\n"
          ]
        }
      ],
      "source": [
        "response=retrieval_chain.invoke({'input':\"Print the table for 9.1  PROPERTY, PLANT AND EQUIPMENT - AS AT 31 MAR 2021?\"})\n",
        "print(response['answer'])"
      ]
    },
    {
      "cell_type": "code",
      "execution_count": null,
      "metadata": {
        "id": "LfHGaP_DlpBK",
        "outputId": "c08abbb2-4fa5-4eb1-ab07-4677a9e20f8d"
      },
      "outputs": [
        {
          "name": "stderr",
          "output_type": "stream",
          "text": [
            "Batches: 100%|██████████| 1/1 [00:00<00:00, 20.78it/s]\n"
          ]
        },
        {
          "name": "stdout",
          "output_type": "stream",
          "text": [
            "2024-05-26 22:38:06 - HTTP Request: POST https://api.groq.com/openai/v1/chat/completions \"HTTP/1.1 200 OK\"\n",
            "Here is the table for 9.3 DEPRECIATION AND AMORTIZATION EXPENSE for 2020-21:\n",
            "\n",
            "**9.3 DEPRECIATION AND AMORTIZATION EXPENSE**\n",
            "\n",
            "* For the year ended 31 Mar 2021\n",
            "* For the year ended 31 Mar 2020\n",
            "\n",
            "**Depreciation on Property, Plant and Equipment** | **2021** | **2020**\n",
            "-------------------------|----------|----------\n",
            "Depreciation | 1,324.05 | 1,327.60\n",
            "\n",
            "**Amortization of Intangible Assets** | **2021** | **2020**\n",
            "-------------------------|----------|----------\n",
            "Amortization | 307.91 | 352.58\n",
            "\n",
            "**Right to use Assets** | **2021** | **2020**\n",
            "-------------------------|----------|----------\n",
            "Right to use Assets | 1,537.17 | 1,344.45\n",
            "\n",
            "**Total** | **2021** | **2020**\n",
            "-------------------------|----------|----------\n",
            "Total | 3,169.13 | 3,024.63\n"
          ]
        }
      ],
      "source": [
        "response=retrieval_chain.invoke({'input':\"Print the table for 9.3 DEPRECIATION AND AMORTIZATION EXPENSE for 2020-21?\"})\n",
        "print(response['answer'])"
      ]
    }
  ],
  "metadata": {
    "kernelspec": {
      "display_name": "Python 3",
      "language": "python",
      "name": "python3"
    },
    "language_info": {
      "codemirror_mode": {
        "name": "ipython",
        "version": 3
      },
      "file_extension": ".py",
      "mimetype": "text/x-python",
      "name": "python",
      "nbconvert_exporter": "python",
      "pygments_lexer": "ipython3",
      "version": "3.10.0"
    },
    "colab": {
      "provenance": []
    }
  },
  "nbformat": 4,
  "nbformat_minor": 0
}